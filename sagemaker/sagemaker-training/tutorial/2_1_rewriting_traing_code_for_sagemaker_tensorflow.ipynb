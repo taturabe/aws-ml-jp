{
 "cells": [
  {
   "cell_type": "markdown",
   "id": "4a4ddafc",
   "metadata": {},
   "source": [
    "# TensorFlow(Keras) のコードを SageMaker Training 向けに適したコードに書き換える\n",
    "* [CIFAR-10](https://www.cs.toronto.edu/~kriz/cifar.html) の画像分類問題を解く"
   ]
  },
  {
   "cell_type": "markdown",
   "id": "694f0d35",
   "metadata": {},
   "source": [
    "## 書き換え前のベースのコード\n",
    "そのまま動くことを確認します。"
   ]
  },
  {
   "cell_type": "code",
   "execution_count": null,
   "id": "f50c42d6",
   "metadata": {},
   "outputs": [],
   "source": [
    "import tensorflow as tf\n",
    "from keras import backend as K\n",
    "K.set_image_data_format('channels_last')\n",
    "\n",
    "# データロード\n",
    "(x_train,y_train),(x_valid,y_valid) = tf.keras.datasets.cifar10.load_data()\n",
    "print(x_train.shape)\n",
    "x_train = (x_train/255)\n",
    "x_valid = (x_valid/255)\n",
    "\n",
    "# モデル定義\n",
    "model = tf.keras.models.Sequential()\n",
    "model.add(tf.keras.layers.Conv2D(filters=16,kernel_size=(3,3),padding=\"same\",activation=\"relu\",input_shape=(x_train.shape[1],x_train.shape[2],x_train.shape[3])))\n",
    "model.add(tf.keras.layers.Flatten())\n",
    "model.add(tf.keras.layers.Dense(10,activation=\"softmax\"))\n",
    "\n",
    "# トレーニング\n",
    "model.compile(optimizer=tf.keras.optimizers.Adam(learning_rate=0.00001),metrics=['accuracy'],loss=\"sparse_categorical_crossentropy\")\n",
    "model.fit(x_train,y_train,batch_size=4,epochs=2,validation_data=(x_valid,y_valid))\n",
    "\n",
    "# モデルの保存\n",
    "model.save('./1')"
   ]
  },
  {
   "cell_type": "markdown",
   "id": "9d97bc9b",
   "metadata": {},
   "source": [
    "## 書き換え前のコードが SageMaker Training で動くことも確認\n",
    "処理自体は動くけれども出来上がったモデルも揮発する"
   ]
  },
  {
   "cell_type": "code",
   "execution_count": null,
   "id": "fe5c429a",
   "metadata": {},
   "outputs": [],
   "source": [
    "!pygmentize ./src/2-1-1/train.py"
   ]
  },
  {
   "cell_type": "code",
   "execution_count": null,
   "id": "18e06e49",
   "metadata": {},
   "outputs": [],
   "source": [
    "import sagemaker\n",
    "from sagemaker.tensorflow import TensorFlow\n",
    "\n",
    "estimator = TensorFlow(\n",
    "    entry_point='./src/2-1-1/train.py',\n",
    "    py_version='py38', \n",
    "    framework_version='2.6.0',\n",
    "    instance_count=1,\n",
    "    instance_type='local',\n",
    "    role=sagemaker.get_execution_role()\n",
    ")\n",
    "estimator.fit()"
   ]
  },
  {
   "cell_type": "markdown",
   "id": "5e45fd68",
   "metadata": {},
   "source": [
    "## モデルを S3 に保存するように書き換え  \n",
    "\n",
    "### (coding) トレーニングスクリプトの書き換え\n",
    "以下のセルを実行(shift+enter)することで、`%%writefile` というマジックコマンドによって `%%writefile` の後に指定した場所にセルの内容が保存されます。モデルを S3 に保存するように書き換えて実行して、トレーニングジョブを動かしましょう。  \n",
    "書き換え場所や書き換え内容がわからない方はヒントを 4 つ用意しましたので参照してください。(ヒントと書かれている部分をクリックするとヒントの内容が見えるようになります）  \n",
    "\n",
    "\n",
    "<details><summary>▶ヒント1: 書き換え場所</summary><div>\n",
    "\n",
    "モデルを指定ディレクトリに保存するとトレーニング完了時に Amazon S3 に自動で転送されます。`モデルの保存`をしている場所を書き換える必要があります。\n",
    "\n",
    "</div></details>\n",
    "\n",
    "<details><summary>▶ヒント2: モデルの保存先</summary><div>\n",
    "\n",
    "トレーニング完了時に Amazon S3 に自動で転送するには環境変数で定義された指定ディレクトリに保存する必要があります。\n",
    "\n",
    "</div></details>\n",
    "\n",
    "<details><summary>▶ヒント3: 使用する環境変数</summary><div>\n",
    "\n",
    "`SM_MODEL_DIR` と `SM_OUTPUT_DATA_DIR` で指定された値のディレクトリに保存するとトレーニング完了時に Amazon S3 に自動で転送します。今回のケースでより適しているのは？（どちらに保存しても問題なく動作はします）\n",
    "\n",
    "</div></details>\n",
    "\n",
    "<details><summary>▶ヒント4: 環境変数を Python のコードで取得するには？</summary><div>\n",
    "\n",
    "`os` モジュールの `os.environ.get('{環境変数名}')` もしくは `os.getenv()` を使用するのが一般的です。  \n",
    "`getenv` は `envrion.get`同じ（エイリアス）なので、どちらを使用しても良いです。  \n",
    " 事前に `import os` する必要があることに注意してください  \n",
    "\n",
    "</div></details>\n",
    "\n",
    "<details><summary>▶ヒント5: ディレクトリとファイル名をつなげる良い方法</summary><div>\n",
    "\n",
    "ディレクトリは末尾がスラッシュがつくのかつかないのかわからないケースがあり、パスの文字列を作るとき混乱します。  \n",
    "例：`/opt/ml/code` なのか `/opt/ml/code/` なのか、そこに例えば `train.py` を指定するとき、単純に文字列連結してしまうと、  \n",
    "`/opt/ml/codetrain.py`となってしまったり、`/opt/ml/code//train.py`となってしまったりしまいます。  \n",
    "`os` モジュールの `os.path.join(DIRECTORY,FILE)`を使うと、スラッシュの有無を気にせずにパスをきれいに生成してくれます。\n",
    "\n",
    "</div></details>"
   ]
  },
  {
   "cell_type": "code",
   "execution_count": null,
   "id": "0bf00ff1",
   "metadata": {},
   "outputs": [],
   "source": [
    "%%writefile ./src/2-1-2/train.py\n",
    "import tensorflow as tf\n",
    "from keras import backend as K\n",
    "K.set_image_data_format('channels_last')\n",
    "\n",
    "# データロード\n",
    "(x_train,y_train),(x_valid,y_valid) = tf.keras.datasets.cifar10.load_data()\n",
    "print(x_train.shape)\n",
    "x_train = (x_train/255)\n",
    "x_valid = (x_valid/255)\n",
    "\n",
    "# モデル定義\n",
    "model = tf.keras.models.Sequential()\n",
    "model.add(tf.keras.layers.Conv2D(filters=16,kernel_size=(3,3),padding=\"same\",activation=\"relu\",input_shape=(x_train.shape[1],x_train.shape[2],x_train.shape[3])))\n",
    "model.add(tf.keras.layers.Flatten())\n",
    "model.add(tf.keras.layers.Dense(10,activation=\"softmax\"))\n",
    "\n",
    "# トレーニング\n",
    "model.compile(optimizer=tf.keras.optimizers.Adam(learning_rate=0.00001),metrics=['accuracy'],loss=\"sparse_categorical_crossentropy\")\n",
    "model.fit(x_train,y_train,batch_size=4,epochs=2,validation_data=(x_valid,y_valid))\n",
    "\n",
    "# モデルの保存\n",
    "model.save('./1')"
   ]
  },
  {
   "cell_type": "markdown",
   "id": "aeab4a47",
   "metadata": {},
   "source": [
    "### トレーニングジョブの実行\n",
    "上記で作成したトレーニングスクリプトを実行してみます。  \n",
    "SageMaker Notebook を利用している場合は `instance_type='local'` とするとトレーニングジョブを Notebook インスタンスで実行できるため起動が早く試しやすいです。"
   ]
  },
  {
   "cell_type": "code",
   "execution_count": null,
   "id": "062cff33",
   "metadata": {
    "scrolled": true
   },
   "outputs": [],
   "source": [
    "import sagemaker\n",
    "from sagemaker.tensorflow import TensorFlow\n",
    "\n",
    "estimator = TensorFlow(\n",
    "    entry_point='./src/2-1-2/train.py',\n",
    "    py_version='py38', \n",
    "    framework_version='2.6.0',\n",
    "    instance_count=1,\n",
    "    instance_type='local',\n",
    "    role=sagemaker.get_execution_role()\n",
    ")\n",
    "estimator.fit()"
   ]
  },
  {
   "cell_type": "markdown",
   "id": "a460eb91",
   "metadata": {},
   "source": [
    "### モデルの確認\n",
    "モデルが S3 に転送されているかを確認するため、S3 からモデルをダウンロードしてロードしてみます。"
   ]
  },
  {
   "cell_type": "code",
   "execution_count": null,
   "id": "151dbda4",
   "metadata": {},
   "outputs": [],
   "source": [
    "# モデルの URI を取得\n",
    "model_uri = estimator.latest_training_job.describe()['ModelArtifacts']['S3ModelArtifacts']\n",
    "# モデルをローカルにコピーして解凍\n",
    "!aws s3 cp {model_uri} ./\n",
    "!tar zxvf model.tar.gz\n",
    "# モデルの読み込み\n",
    "import tensorflow as tf\n",
    "model = tf.keras.models.load_model('./1')\n",
    "model.summary()"
   ]
  },
  {
   "cell_type": "markdown",
   "id": "3f17ef4f",
   "metadata": {},
   "source": [
    "## トレーニングデータを S3 からトレーニングインスタンスに転送する\n",
    "\n",
    "トレーニングジョブでアーティファクト（今回ではモデル）を S3 に連携できました。次はトレーニングデータをトレーニングスクリプトを実行前に Amazon S3 から連携させます。\n",
    "### データを Amazon S3 に送り込む\n",
    "以下コードを実行して、Amazon S3 にトレーニングデータを Amazon S3 にデータを送り込みます。  \n",
    "データの形式は元が ndarray のため、そのまま npy 形式で保存することとします。  \n",
    "送り込んだ先の URI は `train_s3_uri`, `valid_s3_uri` に格納されます。"
   ]
  },
  {
   "cell_type": "code",
   "execution_count": null,
   "id": "ce4ac6fe",
   "metadata": {},
   "outputs": [],
   "source": [
    "!mkdir -p ./train\n",
    "!mkdir -p ./valid\n",
    "\n",
    "import tensorflow as tf\n",
    "import numpy as np\n",
    "import sagemaker\n",
    "\n",
    "(x_train,y_train),(x_valid,y_valid) = tf.keras.datasets.cifar10.load_data()\n",
    "x_train = x_train/255\n",
    "x_valid = x_valid/255\n",
    "\n",
    "np.save('./train/x_train.npy',x_train)\n",
    "np.save('./train/y_train.npy',y_train)\n",
    "np.save('./valid/x_valid.npy',x_valid)\n",
    "np.save('./valid/y_valid.npy',y_valid)\n",
    "train_s3_uri = sagemaker.session.Session().upload_data(path='./train/', bucket=sagemaker.session.Session().default_bucket(), key_prefix='training/2-1/train')\n",
    "valid_s3_uri = sagemaker.session.Session().upload_data(path='./valid/', bucket=sagemaker.session.Session().default_bucket(), key_prefix='training/2-1/valid')"
   ]
  },
  {
   "cell_type": "markdown",
   "id": "a20b5d06",
   "metadata": {},
   "source": [
    "### (coding) トレーニングコードの書き換え\n",
    "`fit` メソッド実行時に引数に以下の引数を指定してトレーニングインスタンスにトレーニングデータを送り込みます。\n",
    "`fit({'train':train_s3_uri,'valid':valid_s3_uri})`  \n",
    "トレーニングインスタンスに送り込まれたデータを使ってトレーニングするようにトレーニングコードを書き換えましょう。\n",
    "\n",
    "\n",
    "<details><summary>▶ヒント1: 書き換え場所</summary><div>\n",
    "\n",
    "今までは TensorFlow のモジュールにある `load_data()` メソッドでデータを読み込んでいました。  \n",
    "`load_data()` 部分をファイルからロードするように書き換える必要があります。\n",
    "\n",
    "</div></details>\n",
    "\n",
    "<details><summary>▶ヒント2: ロードするファイルの場所</summary><div>\n",
    "\n",
    "トレーニングスクリプトを実行する時のカレントディレクトリは `/opt/ml/code` であり、トレーニングスクリプトが配置された場所です。  \n",
    "そこに `.npy` ファイルは存在しないため、パスを指定してファイルを読み込む必要があります。  \n",
    "ファイルの場所は環境変数で定義された `SM_CHANNEL_{辞書形式で渡したfitの引数のキー名の大文字}` の値のディレクトリです。\n",
    "\n",
    "</div></details>\n",
    "\n",
    "<details><summary>▶ヒント3: `.npy` ファイルの読み込み方</summary><div>\n",
    "\n",
    "`np.load(FILE_PATH)` で読み込みます。\n",
    "\n",
    "</div></details>\n"
   ]
  },
  {
   "cell_type": "code",
   "execution_count": null,
   "id": "53622bd9",
   "metadata": {},
   "outputs": [],
   "source": [
    "%%writefile ./src/2-1-3/train.py\n",
    "import tensorflow as tf\n",
    "from keras import backend as K\n",
    "K.set_image_data_format('channels_last')\n",
    "import os\n",
    "\n",
    "# データロード\n",
    "(x_train,y_train),(x_valid,y_valid) = tf.keras.datasets.cifar10.load_data()\n",
    "x_train = x_train/255\n",
    "x_valid = x_valid/255\n",
    "\n",
    "# モデル定義\n",
    "model = tf.keras.models.Sequential()\n",
    "model.add(tf.keras.layers.Conv2D(filters=16,kernel_size=(3,3),padding=\"same\",activation=\"relu\",input_shape=(x_train.shape[1],x_train.shape[2],x_train.shape[3])))\n",
    "model.add(tf.keras.layers.Flatten())\n",
    "model.add(tf.keras.layers.Dense(10,activation=\"softmax\"))\n",
    "model.compile(optimizer=tf.keras.optimizers.Adam(learning_rate=0.00001),metrics=['accuracy'],loss=\"sparse_categorical_crossentropy\")\n",
    "\n",
    "# トレーニング\n",
    "model.fit(x_train,y_train,batch_size=4,epochs=2,validation_data=(x_valid,y_valid))\n",
    "\n",
    "# モデルの保存\n",
    "model_dir = os.environ.get('SM_MODEL_DIR')\n",
    "model.save(os.path.join(model_dir,'1'))"
   ]
  },
  {
   "cell_type": "markdown",
   "id": "a0c47c91",
   "metadata": {},
   "source": [
    "### トレーニングジョブの実行"
   ]
  },
  {
   "cell_type": "code",
   "execution_count": null,
   "id": "e3e23805",
   "metadata": {
    "scrolled": true
   },
   "outputs": [],
   "source": [
    "import sagemaker\n",
    "from sagemaker.tensorflow import TensorFlow\n",
    "estimator = TensorFlow(\n",
    "    entry_point='./src/2-1-3/train.py',\n",
    "    py_version='py38', \n",
    "    framework_version='2.6.0',\n",
    "    instance_count=1,\n",
    "    instance_type='local',\n",
    "    role=sagemaker.get_execution_role()\n",
    ")\n",
    "estimator.fit({\n",
    "    'train':train_s3_uri,\n",
    "    'valid':valid_s3_uri,\n",
    "})"
   ]
  },
  {
   "cell_type": "markdown",
   "id": "2920fb41",
   "metadata": {},
   "source": [
    "### モデルの確認"
   ]
  },
  {
   "cell_type": "code",
   "execution_count": null,
   "id": "587211f0",
   "metadata": {},
   "outputs": [],
   "source": [
    "# モデルの URI を取得\n",
    "model_uri = estimator.latest_training_job.describe()['ModelArtifacts']['S3ModelArtifacts']\n",
    "# モデルをローカルにコピーして解凍\n",
    "!rm model.tar.gz\n",
    "!rm -rf ./1\n",
    "!aws s3 cp {model_uri} ./\n",
    "!tar zxvf model.tar.gz\n",
    "# モデルの読み込み\n",
    "import tensorflow as tf\n",
    "model = tf.keras.models.load_model('./1')\n",
    "model.summary()"
   ]
  },
  {
   "cell_type": "markdown",
   "id": "a5ec747c",
   "metadata": {},
   "source": [
    "## ハイパーパラメータをトレーニングスクリプト外から入力する"
   ]
  },
  {
   "cell_type": "markdown",
   "id": "adad85bc",
   "metadata": {},
   "source": [
    "### ハイパーパラメータを Estimator で定義する\n",
    "`batch_size` や `epochs` などのパラメータはいろいろ試して良い数値を探索することがあります。  \n",
    "毎回トレーニングコードを書き換えるのではなく外部からパラメータを設定できたほうが何かと便利です。  \n",
    "SageMaker では Estimator インスタンス生成時の引数で `hyperparameters` という引数を用いることでトレーニングスクリプトの外からパラメータを与えることができます。  \n",
    "ここでは以下のハイパーパラメータを与えたときにそのように動くようにトレーニングスクリプトを書き換えましょう。\n",
    "\n",
    "```python\n",
    "hyperparameters={\n",
    "    'filters': 8,\n",
    "    'epochs': 1,\n",
    "    'batch_size': 16,\n",
    "    'learning_rate': 0.001\n",
    "}\n",
    "```\n",
    "<details><summary>▶ヒント1: スクリプト実行時にどうやってハイパーパラメータがスクリプトに引き渡されるか</summary><div>\n",
    "\n",
    "3 つあり、どれを使ってもよいです。それぞれ default 値を設定しておくと良いでしょう。\n",
    "\n",
    "1. コマンドライン引数\n",
    "  トレーニングスクリプトを実行する際に以下のように実行されます。\n",
    "  `python train.py --filters 8 --epochs 1 --batch_size 16 --learning_rate 0.001 --model_dir s3://{bucket}/prefix`\n",
    "  [argparse モジュール](https://docs.python.org/ja/3/howto/argparse.html)を使って受け取ると良いでしょう。\n",
    "  ユーザが設定していないハイパーパラメータ `model_dir` (モデルが S3 のどこに保存されるか)が自動で設定されることに注意しましょう。\n",
    "  default 値を設定する場合は、`add_argument()` を実行する際に、default 引数を設定します。\n",
    "\n",
    "2. SM_HPS 環境変数\n",
    "  SM_HPS という環境変数に json 文字列で格納されるので、それを取得するのもよいでしょう。  \n",
    "  以下のように取得すると `hps` 変数に辞書形式で取得できます。  \n",
    "  \n",
    "  ```python\n",
    "  import json, os\n",
    "  hps = json.loads(os.environ.get('SM_HPS'))\n",
    "  ```\n",
    "  デフォルト値は `hps.setdefault(KEY,VALUE)`を利用すると良いでしょう。\n",
    "  \n",
    "3. SM_HP_{ハイパーパラメータ名大文字}\n",
    "  `os.environ.get()`で取得できます。デフォルト値の設定には第2引数にデフォルト値を設定します。\n",
    "\n",
    "</div></details>\n"
   ]
  },
  {
   "cell_type": "code",
   "execution_count": null,
   "id": "4a1e3778",
   "metadata": {},
   "outputs": [],
   "source": [
    "%%writefile ./src/2-1-4/train.py\n",
    "import tensorflow as tf\n",
    "from keras import backend as K\n",
    "K.set_image_data_format('channels_last')\n",
    "import os\n",
    "import numpy as np\n",
    "\n",
    "# データロード\n",
    "train_dir = os.environ.get('SM_CHANNEL_TRAIN')\n",
    "valid_dir = os.environ.get('SM_CHANNEL_VALID')\n",
    "x_train = np.load(os.path.join(train_dir,'x_train.npy'))\n",
    "y_train = np.load(os.path.join(train_dir,'y_train.npy'))\n",
    "x_valid = np.load(os.path.join(valid_dir,'x_valid.npy'))\n",
    "y_valid = np.load(os.path.join(valid_dir,'y_valid.npy'))\n",
    "\n",
    "# モデル定義\n",
    "model = tf.keras.models.Sequential()\n",
    "model.add(tf.keras.layers.Conv2D(filters=16,kernel_size=(3,3),padding=\"same\",activation=\"relu\",input_shape=(x_train.shape[1],x_train.shape[2],x_train.shape[3])))\n",
    "model.add(tf.keras.layers.Flatten())\n",
    "model.add(tf.keras.layers.Dense(10,activation=\"softmax\"))\n",
    "model.compile(optimizer=tf.keras.optimizers.Adam(learning_rate=0.00001),metrics=['accuracy'],loss=\"sparse_categorical_crossentropy\")\n",
    "\n",
    "# トレーニング\n",
    "model.fit(x_train,y_train,batch_size=4,epochs=2,validation_data=(x_valid,y_valid))\n",
    "\n",
    "# モデルの保存\n",
    "model_dir = os.environ.get('SM_MODEL_DIR')\n",
    "model.save(os.path.join(model_dir,'1'))"
   ]
  },
  {
   "cell_type": "markdown",
   "id": "d6c73b76",
   "metadata": {},
   "source": [
    "### トレーニングの実行\n",
    "設定したハイパーパラメータが使われているか確認しましょう。"
   ]
  },
  {
   "cell_type": "code",
   "execution_count": null,
   "id": "2cf4fa7c",
   "metadata": {
    "scrolled": true
   },
   "outputs": [],
   "source": [
    "import sagemaker\n",
    "from sagemaker.tensorflow import TensorFlow\n",
    "estimator = TensorFlow(\n",
    "    entry_point='./src/2-1-4/train.py',\n",
    "    py_version='py38', \n",
    "    framework_version='2.6.0',\n",
    "    instance_count=1,\n",
    "    instance_type='local',\n",
    "    role=sagemaker.get_execution_role(),\n",
    "    hyperparameters={\n",
    "        'filters': 8,\n",
    "        'epochs': 1,\n",
    "        'batch_size': 16,\n",
    "        'learning_rate': 0.001\n",
    "    }\n",
    ")\n",
    "estimator.fit({\n",
    "    'train':train_s3_uri,\n",
    "    'valid':valid_s3_uri,\n",
    "})"
   ]
  },
  {
   "cell_type": "markdown",
   "id": "b9fedc7c",
   "metadata": {},
   "source": [
    "### 出来上がったモデルの確認"
   ]
  },
  {
   "cell_type": "code",
   "execution_count": null,
   "id": "db5efa43",
   "metadata": {},
   "outputs": [],
   "source": [
    "# モデルの URI を取得\n",
    "model_uri = estimator.latest_training_job.describe()['ModelArtifacts']['S3ModelArtifacts']\n",
    "# モデルをローカルにコピーして解凍\n",
    "!rm model.tar.gz\n",
    "!rm -rf ./1\n",
    "!aws s3 cp {model_uri} ./\n",
    "!tar zxvf model.tar.gz\n",
    "# モデルの読み込み\n",
    "import tensorflow as tf\n",
    "model = tf.keras.models.load_model('./1')\n",
    "model.summary()"
   ]
  },
  {
   "cell_type": "code",
   "execution_count": null,
   "id": "a2b8edb2",
   "metadata": {},
   "outputs": [],
   "source": []
  }
 ],
 "metadata": {
  "instance_type": "ml.t3.medium",
  "kernelspec": {
   "display_name": "conda_tensorflow2_p38",
   "language": "python",
   "name": "conda_tensorflow2_p38"
  },
  "language_info": {
   "codemirror_mode": {
    "name": "ipython",
    "version": 3
   },
   "file_extension": ".py",
   "mimetype": "text/x-python",
   "name": "python",
   "nbconvert_exporter": "python",
   "pygments_lexer": "ipython3",
   "version": "3.8.12"
  }
 },
 "nbformat": 4,
 "nbformat_minor": 5
}
